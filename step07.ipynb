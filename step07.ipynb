{
 "cells": [
  {
   "cell_type": "code",
   "execution_count": 11,
   "metadata": {},
   "outputs": [],
   "source": [
    "class Variable:\n",
    "    \n",
    "    def __init__(self, data):\n",
    "        self.data = data # 통상값 data\n",
    "        self.grad = None # grad(미분값) 기울기\n",
    "        #인스턴스 변수 data,grad 넘파이의 다차원 배열(ndarray)\n",
    "        \n",
    "        self.creator = None #인스턴스 변수 creator\n",
    "    \n",
    "    #변수 생성 함수\n",
    "    def set_creator(self, func):\n",
    "        self.creator = func"
   ]
  },
  {
   "cell_type": "code",
   "execution_count": 7,
   "metadata": {},
   "outputs": [],
   "source": [
    "class Function:\n",
    "    def __call__(self, input):\n",
    "        x = input.data\n",
    "        y = self.forward(x) #forward 메세드 호출시 건네받은 Variable 인스턴스 유지\n",
    "        output = Variable(y) # 순전파를 계산하면 output이라는 Variable 인스턴스가 생성됨\n",
    "        output.set_creator(self) # 출력 변수에 창조자 설정\n",
    "        \n",
    "        self.input = input # 입력 변수를 보관함.\n",
    "        self.output = output #\n",
    "        \n",
    "        return output\n",
    "    \n",
    "    def forward(self,x):\n",
    "        raise NotImplementedError()\n",
    "    \n",
    "    #미분을 계산하는 역전파\n",
    "    def backward(self,gy):\n",
    "        raise NotImplementedError()\n",
    "    \n",
    "    "
   ]
  },
  {
   "cell_type": "code",
   "execution_count": 12,
   "metadata": {},
   "outputs": [],
   "source": [
    "#function을 상속한 구체적 함수에서 역전파 구현\n",
    "# Square 클래스\n",
    "\n",
    "class Square(Function):\n",
    "    def forward(self, x):\n",
    "        y = x ** 2\n",
    "        return y\n",
    "    \n",
    "    #미분값 계산\n",
    "    def backward(self, gy):\n",
    "        x = self.input.data\n",
    "        gx = 2 * x * gy\n",
    "        return gx\n",
    "        "
   ]
  },
  {
   "cell_type": "code",
   "execution_count": 13,
   "metadata": {},
   "outputs": [],
   "source": [
    "import numpy as np\n",
    "\n",
    "class Exp(Function):\n",
    "    def forward(self, x):\n",
    "        y = np.exp(x)\n",
    "        return y\n",
    "    \n",
    "    def backward(self, gy):\n",
    "        x = self.input.data\n",
    "        gx = np.exp(x) * gy\n",
    "        \n",
    "        return gx    "
   ]
  },
  {
   "cell_type": "code",
   "execution_count": 14,
   "metadata": {},
   "outputs": [],
   "source": [
    "A = Square()\n",
    "B = Exp()\n",
    "C = Square()\n",
    "\n",
    "x = Variable(np.array(0.5))\n",
    "\n",
    "a = A(x)\n",
    "b = B(a)\n",
    "y = C(b)\n",
    "\n",
    "# 계산 그래프의 노드들을 거꾸로 거슬러 올라감.\n",
    "# assert는 조건문과 비슷함\n",
    "assert y.creator == C\n",
    "assert y.creator.input == b\n",
    "assert y.creator.input.creator == B\n",
    "assert y.creator.input.creator.input == a\n",
    "assert y.creator.input.creator.input.creator == A\n",
    "assert y.creator.input.creator.input.creator.input == x"
   ]
  },
  {
   "cell_type": "code",
   "execution_count": 16,
   "metadata": {},
   "outputs": [
    {
     "name": "stdout",
     "output_type": "stream",
     "text": [
      "3.297442541400256\n"
     ]
    }
   ],
   "source": [
    "y.grad = np.array(1.0)\n",
    "\n",
    "C = y.creator # 1. 함수를 가져옴\n",
    "b = C.input # 2. 함수의 입력을 가져옴\n",
    "b.grad = C.backward(y.grad) # 3. 함수의 backward 메서드 호출\n",
    "\n",
    "\n",
    "B = b.creator # 1. 함수를 가져옴\n",
    "a = B.input # 2. 함수의 입력을 가져옴\n",
    "a.grad = B.backward(b.grad) # 3. 함수의 backward 메서드 호출\n",
    "\n",
    "A = a.creator\n",
    "x = A.input\n",
    "x.grad = A.backward(a.grad)\n",
    "#마지막으로 변수 a에서 x로의 역전파\n",
    "\n",
    "\n",
    "print(x.grad)"
   ]
  },
  {
   "cell_type": "code",
   "execution_count": 17,
   "metadata": {},
   "outputs": [],
   "source": [
    "class Variable:\n",
    "    \n",
    "    def __init__(self, data):\n",
    "        self.data = data # 통상값 data\n",
    "        self.grad = None # grad(미분값) 기울기\n",
    "        #인스턴스 변수 data,grad 넘파이의 다차원 배열(ndarray)\n",
    "        \n",
    "        self.creator = None #인스턴스 변수 creator\n",
    "    \n",
    "    #변수 생성 함수\n",
    "    def set_creator(self, func):\n",
    "        self.creator = func\n",
    "        \n",
    "    # 반복작업 자동화를 위한 메서드\n",
    "    def backward(self):\n",
    "        f = self.creator # 1. 함수를 가져옴.\n",
    "        if f is not None:\n",
    "            x = f.input # 2. 함수의 입력을 가져옴\n",
    "            x.grad = f.backward(self.grad) # 3. 함수의 backward 메서드 호출\n",
    "            x.backward() # 하나 앞 변수의 backward 메서드 호출함. (재귀)\n",
    "            \n",
    "        # 만약 Variable 인스턴스의 creator가 None이면 역전파가 중단됨.\n",
    "        # 창조주가 없기 때문에 해당 Variable 인스턴스는 함수 바깥에서 생성됨 -> 즉 사용자가 만든 것.\n",
    "        "
   ]
  },
  {
   "cell_type": "code",
   "execution_count": 18,
   "metadata": {},
   "outputs": [
    {
     "name": "stdout",
     "output_type": "stream",
     "text": [
      "3.297442541400256\n"
     ]
    }
   ],
   "source": [
    "A = Square()\n",
    "B = Exp()\n",
    "C = Square()\n",
    "\n",
    "x = Variable(np.array(0.5))\n",
    "a = A(x)\n",
    "b = B(a)\n",
    "y = C(b)\n",
    "\n",
    "#역전파\n",
    "y.grad = np.array(1.0)\n",
    "y.backward()\n",
    "#이처럼 변수 y의 backward 메서드 호출시 역전파 자동 진행\n",
    "\n",
    "print(x.grad)\n",
    "\n"
   ]
  },
  {
   "cell_type": "code",
   "execution_count": 20,
   "metadata": {},
   "outputs": [],
   "source": [
    "class Variable:\n",
    "    \n",
    "    def __init__(self, data):\n",
    "        self.data = data # 통상값 data\n",
    "        self.grad = None # grad(미분값) 기울기\n",
    "        #인스턴스 변수 data,grad 넘파이의 다차원 배열(ndarray)\n",
    "        \n",
    "        self.creator = None #인스턴스 변수 creator\n",
    "    \n",
    "    #변수 생성 함수\n",
    "    def set_creator(self, func):\n",
    "        self.creator = func\n",
    "        \n",
    "    # 반복작업 자동화를 위한 메서드\n",
    "    def backward(self):\n",
    "        \n",
    "        funcs = [self.creator]\n",
    "        while funcs:\n",
    "            f = funcs.pop() #함수를 가져옴 pop()메서드 사용\n",
    "            x,y = f.input, f.output # 함수의 입력과 출력을 가져옴\n",
    "            x.grad = f.backward(y.grad) # backward 메서드 호출함.\n",
    "            \n",
    "            if x.creator is not None:\n",
    "                funcs.append(x.creator) # 하나 앞의 함수를 리스트에 추가함.\n",
    "            \n",
    "        \n",
    "        #f = self.creator # 1. 함수를 가져옴.\n",
    "        #if f is not None:\n",
    "            #x = f.input # 2. 함수의 입력을 가져옴\n",
    "            #x.grad = f.backward(self.grad) # 3. 함수의 backward 메서드 호출\n",
    "            #x.backward() # 하나 앞 변수의 backward 메서드 호출함. (재귀)\n",
    "            \n",
    "            \n",
    "            \n",
    "        # 만약 Variable 인스턴스의 creator가 None이면 역전파가 중단됨.\n",
    "        # 창조주가 없기 때문에 해당 Variable 인스턴스는 함수 바깥에서 생성됨 -> 즉 사용자가 만든 것."
   ]
  },
  {
   "cell_type": "code",
   "execution_count": 21,
   "metadata": {},
   "outputs": [
    {
     "name": "stdout",
     "output_type": "stream",
     "text": [
      "3.297442541400256\n"
     ]
    }
   ],
   "source": [
    "A = Square()\n",
    "B = Exp()\n",
    "C = Square()\n",
    "\n",
    "x = Variable(np.array(0.5))\n",
    "a = A(x)\n",
    "b = B(a)\n",
    "y = C(b)\n",
    "\n",
    "#역전파\n",
    "y.grad = np.array(1.0)\n",
    "y.backward()\n",
    "#이처럼 변수 y의 backward 메서드 호출시 역전파 자동 진행\n",
    "\n",
    "print(x.grad)\n",
    "\n",
    "#속도 개선됨.\n"
   ]
  },
  {
   "cell_type": "code",
   "execution_count": null,
   "metadata": {},
   "outputs": [],
   "source": [
    "#\n",
    "\n",
    "x = Variable(np.array(0.5))\n",
    "f = Square() #\n",
    "y = f(x)\n"
   ]
  }
 ],
 "metadata": {
  "kernelspec": {
   "display_name": "Python 3.9.5 64-bit",
   "language": "python",
   "name": "python3"
  },
  "language_info": {
   "codemirror_mode": {
    "name": "ipython",
    "version": 3
   },
   "file_extension": ".py",
   "mimetype": "text/x-python",
   "name": "python",
   "nbconvert_exporter": "python",
   "pygments_lexer": "ipython3",
   "version": "3.9.5"
  },
  "orig_nbformat": 4,
  "vscode": {
   "interpreter": {
    "hash": "cff813cca675653def9a726b04cfec6d7f8010630473354de0a11b8a02d46f36"
   }
  }
 },
 "nbformat": 4,
 "nbformat_minor": 2
}
